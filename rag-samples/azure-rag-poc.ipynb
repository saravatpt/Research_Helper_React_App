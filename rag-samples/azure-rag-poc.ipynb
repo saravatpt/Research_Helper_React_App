{
 "cells": [
  {
   "cell_type": "code",
   "execution_count": null,
   "id": "a65f87ac",
   "metadata": {},
   "outputs": [
    {
     "name": "stderr",
     "output_type": "stream",
     "text": [
      "C:\\Users\\ramya.chandrasekaran\\AppData\\Local\\Temp\\ipykernel_24604\\4067360896.py:7: UserWarning: You appear to be connected to a CosmosDB cluster. For more information regarding feature compatibility and support please visit https://www.mongodb.com/supportability/cosmosdb\n",
      "  mongo_client = MongoClient(mongo_connection_string)\n",
      "c:\\Saravanan\\code-practise\\AI-ML\\sample-codes\\.venv\\Lib\\site-packages\\pymongo\\synchronous\\mongo_client.py:1737: UserWarning: You appear to be connected to a CosmosDB cluster. For more information regarding feature compatibility and support please visit https://www.mongodb.com/supportability/cosmosdb\n",
      "  self._resolve_srv()\n"
     ]
    }
   ],
   "source": [
    "import os\n",
    "from pymongo import MongoClient\n",
    "from dotenv import load_dotenv\n",
    "load_dotenv()\n",
    "# Use environment variables for sensitive information\n",
    "mongo_connection_string = \"\"\n",
    "mongo_client = MongoClient(mongo_connection_string)\n",
    "\n",
    "database_name = \"menuDB\"\n",
    "db = mongo_client[database_name]\n",
    "collection_name = \"DisheCollection\"\n",
    "index_name = \"DisheIndex\"\n",
    "collection = db[collection_name]"
   ]
  },
  {
   "cell_type": "code",
   "execution_count": null,
   "id": "dfe5ccac",
   "metadata": {},
   "outputs": [],
   "source": [
    "from langchain_openai import AzureOpenAIEmbeddings, AzureChatOpenAI\n",
    "import os\n",
    "from langchain_core.prompts import ChatPromptTemplate, MessagesPlaceholder\n",
    "from langchain.chains import create_history_aware_retriever, create_retrieval_chain\n",
    "from langchain.chains.combine_documents import create_stuff_documents_chain\n",
    "from langchain_core.runnables import Runnable\n",
    "\n",
    "openai_embeddings_model = os.getenv(\"AZURE_OPENAI_EMBEDDINGS_MODEL_NAME\", \"text-embedding-ada-002\")\n",
    "openai_embeddings_deployment = os.getenv(\"AZURE_OPENAI_EMBEDDINGS_MODEL_NAME\", \"text-embedding-ada-002\")\n",
    "azure_endpoint = os.getenv(\"AZURE_OPENAI_ENDPOINT\")  # Make sure this is set in your environment\n",
    "api_key= os.getenv(\"AZURE_OPENAI_API_KEY\")\n",
    "azure_openai_embeddings = AzureOpenAIEmbeddings(\n",
    "    azure_endpoint=\"https://myragpocai-resource.openai.azure.com/\",\n",
    "    model=\"text-embedding-ada-002\",\n",
    "    azure_deployment=\"text-embedding-ada-002\",\n",
    "    api_key=\"\"\n",
    ")"
   ]
  },
  {
   "cell_type": "code",
   "execution_count": 13,
   "id": "7d0d37cd",
   "metadata": {},
   "outputs": [],
   "source": [
    "from langchain_community.vectorstores import AzureCosmosDBVectorSearch\n",
    "from langchain_core.documents import Document\n",
    "import json\n",
    "# Load JSON data\n",
    "with open('sample_menu_100.json', 'r') as file:\n",
    "    raw_data = json.load(file)\n",
    "\n",
    "# Convert raw data to list of Document objects\n",
    "documents = [\n",
    "    Document(\n",
    "        page_content=item.get(\"text\") or json.dumps(item),  # fallback to full dict if \"text\" not available\n",
    "        metadata={k: v for k, v in item.items() if k != \"text\"}\n",
    "    )\n",
    "    for item in raw_data\n",
    "]\n",
    "\n",
    "# Now create the vector store\n",
    "vector_store: AzureCosmosDBVectorSearch = AzureCosmosDBVectorSearch.from_documents(\n",
    "    documents=documents,\n",
    "    embedding=azure_openai_embeddings,\n",
    "    collection=collection,\n",
    "    index_name=index_name,\n",
    ")"
   ]
  },
  {
   "cell_type": "code",
   "execution_count": null,
   "id": "cedfa9c7",
   "metadata": {},
   "outputs": [],
   "source": [
    "from azure.cosmos.aio.cosmos_client_connection import CosmosDBSimilarityType, CosmosDBVectorSearchType\n",
    "\n",
    "num_lists = 100\n",
    "dimensions = 1536\n",
    "similarity_algorithm = CosmosDBSimilarityType.COS\n",
    "kind = CosmosDBVectorSearchType.VECTOR_HNSW\n",
    "m = 16\n",
    "ef_construction = 64\n",
    "\n",
    "vector_store.create_index(\n",
    "    num_lists, dimensions, similarity_algorithm, kind, m, ef_construction\n",
    ")"
   ]
  },
  {
   "cell_type": "code",
   "execution_count": null,
   "id": "1cb7ef8a",
   "metadata": {},
   "outputs": [],
   "source": [
    "vector_store: AzureCosmosDBVectorSearch =  AzureCosmosDBVectorSearch.from_connection_string(\n",
    "    connection_string=mongo_connection_string,\n",
    "    namespace=f\"{database_name}.{collection_name}\",\n",
    "    embedding=azure_openai_embeddings,\n",
    ")"
   ]
  },
  {
   "cell_type": "code",
   "execution_count": null,
   "id": "c5e005c2",
   "metadata": {},
   "outputs": [],
   "source": [
    "query = \"beef dishes\"\n",
    "docs = vector_store.similarity_search(query)\n",
    "print(docs[0].page_content)"
   ]
  },
  {
   "cell_type": "code",
   "execution_count": null,
   "id": "38098984",
   "metadata": {},
   "outputs": [],
   "source": [
    "openai_chat_model = os.getenv(\"AZURE_OPENAI_CHAT_MODEL_NAME\", \"gpt-35-turbo\")\n",
    "openai_chat_deployment = os.getenv(\"AZURE_OPENAI_CHAT_DEPLOYMENT_NAME\", \"gpt-35-turbo\")\n",
    "azure_openai_chat: AzureChatOpenAI = AzureChatOpenAI(\n",
    "    model=openai_chat_model,\n",
    "    azure_deployment=openai_chat_deployment,\n",
    ")"
   ]
  },
  {
   "cell_type": "code",
   "execution_count": null,
   "id": "c249710d",
   "metadata": {},
   "outputs": [],
   "source": [
    "history_prompt = ChatPromptTemplate.from_messages(\n",
    "    [\n",
    "        MessagesPlaceholder(variable_name=\"chat_history\"),\n",
    "        (\"user\", \"{input}\"),\n",
    "        (\n",
    "            \"user\",\n",
    "            \"\"\"Given the above conversation,\n",
    "            generate a search query to look up to get information relevant to the conversation\"\"\",\n",
    "        ),\n",
    "    ]\n",
    ")\n",
    "\n",
    "context_prompt = ChatPromptTemplate.from_messages(\n",
    "    [\n",
    "        (\"system\", \"Answer the user's questions based on the below context:\\n\\n{context}\"),\n",
    "        MessagesPlaceholder(variable_name=\"chat_history\"),\n",
    "        (\"user\", \"{input}\"),\n",
    "    ]\n",
    ")"
   ]
  },
  {
   "cell_type": "code",
   "execution_count": null,
   "id": "b0e637f1",
   "metadata": {},
   "outputs": [],
   "source": [
    "search_type = \"similarity\"\n",
    "limit = 3\n",
    "score_threshold = 0.7\n",
    "vector_store_retriever = vector_store.as_retriever(\n",
    "    search_type=search_type, search_kwargs={\"k\": limit, \"score_threshold\": score_threshold}\n",
    ")"
   ]
  },
  {
   "cell_type": "code",
   "execution_count": null,
   "id": "7ab4ff22",
   "metadata": {},
   "outputs": [],
   "source": [
    "retriever_chain = create_history_aware_retriever(azure_openai_chat, vector_store_retriever, history_prompt)"
   ]
  },
  {
   "cell_type": "code",
   "execution_count": null,
   "id": "592b823f",
   "metadata": {},
   "outputs": [],
   "source": [
    "context_chain = create_stuff_documents_chain(llm=azure_openai_chat, prompt=context_prompt)"
   ]
  },
  {
   "cell_type": "code",
   "execution_count": null,
   "id": "53039ae1",
   "metadata": {},
   "outputs": [],
   "source": [
    "rag_chain: Runnable = create_retrieval_chain(\n",
    "    retriever=retriever_chain,\n",
    "    combine_docs_chain=context_chain,\n",
    ")"
   ]
  }
 ],
 "metadata": {
  "kernelspec": {
   "display_name": ".venv",
   "language": "python",
   "name": "python3"
  },
  "language_info": {
   "codemirror_mode": {
    "name": "ipython",
    "version": 3
   },
   "file_extension": ".py",
   "mimetype": "text/x-python",
   "name": "python",
   "nbconvert_exporter": "python",
   "pygments_lexer": "ipython3",
   "version": "3.12.6"
  }
 },
 "nbformat": 4,
 "nbformat_minor": 5
}
